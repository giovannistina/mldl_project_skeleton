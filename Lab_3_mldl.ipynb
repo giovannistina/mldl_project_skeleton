{
  "nbformat": 4,
  "nbformat_minor": 0,
  "metadata": {
    "colab": {
      "provenance": [],
      "gpuType": "T4",
      "include_colab_link": true
    },
    "kernelspec": {
      "name": "python3",
      "display_name": "Python 3"
    },
    "language_info": {
      "name": "python"
    },
    "accelerator": "GPU"
  },
  "cells": [
    {
      "cell_type": "markdown",
      "metadata": {
        "id": "view-in-github",
        "colab_type": "text"
      },
      "source": [
        "<a href=\"https://colab.research.google.com/github/giovannistina/mldl_project_skeleton/blob/main/Lab_3_mldl.ipynb\" target=\"_parent\"><img src=\"https://colab.research.google.com/assets/colab-badge.svg\" alt=\"Open In Colab\"/></a>"
      ]
    },
    {
      "cell_type": "markdown",
      "source": [
        "# LAB 3: How to setup a project from Scratch"
      ],
      "metadata": {
        "id": "-E9qeg-6y1Hu"
      }
    },
    {
      "cell_type": "markdown",
      "source": [
        "# Step 1: Clone your project from Github"
      ],
      "metadata": {
        "id": "y6kJGhxzyN6d"
      }
    },
    {
      "cell_type": "code",
      "source": [
        "# !git clone https://github.com/lambdavi/mldl_project_skeleton.git\n",
        "!git clone https://github.com/giovannistina/mldl_project_skeleton.git"
      ],
      "metadata": {
        "id": "6Wfm084txMr0",
        "outputId": "b64d5d2e-048b-41fe-ad1e-01432f2d2f1f",
        "colab": {
          "base_uri": "https://localhost:8080/"
        }
      },
      "execution_count": null,
      "outputs": [
        {
          "output_type": "stream",
          "name": "stdout",
          "text": [
            "Cloning into 'mldl_project_skeleton'...\n",
            "remote: Enumerating objects: 11, done.\u001b[K\n",
            "remote: Counting objects: 100% (11/11), done.\u001b[K\n",
            "remote: Compressing objects: 100% (7/7), done.\u001b[K\n",
            "remote: Total 11 (delta 2), reused 3 (delta 0), pack-reused 0 (from 0)\u001b[K\n",
            "Receiving objects: 100% (11/11), done.\n",
            "Resolving deltas: 100% (2/2), done.\n"
          ]
        }
      ]
    },
    {
      "cell_type": "code",
      "source": [
        "!ls"
      ],
      "metadata": {
        "id": "MN0lMneJxVz0",
        "outputId": "d06421a7-e276-4989-f318-38bf4505e6c0",
        "colab": {
          "base_uri": "https://localhost:8080/"
        }
      },
      "execution_count": null,
      "outputs": [
        {
          "output_type": "stream",
          "name": "stdout",
          "text": [
            "mldl_project_skeleton  sample_data\n"
          ]
        }
      ]
    },
    {
      "cell_type": "code",
      "source": [
        "# %cd mldl_project_skeleton\n",
        "%cd mldl_project_skeleton"
      ],
      "metadata": {
        "id": "3Pa5nOPxxbDf",
        "outputId": "b1d70cef-c981-41c3-f3fe-fa1d2db11cb8",
        "colab": {
          "base_uri": "https://localhost:8080/"
        }
      },
      "execution_count": null,
      "outputs": [
        {
          "output_type": "stream",
          "name": "stdout",
          "text": [
            "/content/mldl_project_skeleton\n"
          ]
        }
      ]
    },
    {
      "cell_type": "markdown",
      "source": [
        "# Step 2: Packages Installation\n"
      ],
      "metadata": {
        "id": "be_4yDyp1Hru"
      }
    },
    {
      "cell_type": "code",
      "source": [
        "!pip install -r requirements.txt"
      ],
      "metadata": {
        "id": "EO9DuAYk1LFR"
      },
      "execution_count": null,
      "outputs": []
    },
    {
      "cell_type": "markdown",
      "source": [
        "# Step 3: Dataset Setup\n",
        "## Different options\n",
        "- First one is downloading using a script that places the data in the download folder (usually recommended)\n",
        "- Second one is uploading the dataset to your personal/institutional Google Drive and load it from there ([Read More](https://saturncloud.io/blog/google-colab-how-to-read-data-from-my-google-drive/))\n",
        "- Place the download script directly here on colab\n",
        "\n",
        "You are free to do as you please in this phase.\n"
      ],
      "metadata": {
        "id": "bifSi62Ixrqr"
      }
    },
    {
      "cell_type": "code",
      "source": [
        "# !python utils/download_dataset.py"
      ],
      "metadata": {
        "id": "DiWQTaTbxeIc"
      },
      "execution_count": null,
      "outputs": []
    },
    {
      "cell_type": "markdown",
      "source": [
        "# Step 4: Train your model and visualize training"
      ],
      "metadata": {
        "id": "sqo9Eh79yihI"
      }
    },
    {
      "cell_type": "code",
      "source": [
        "%env WANDB_API_KEY=<your_api_key>"
      ],
      "metadata": {
        "id": "4-dxDQOFcdgX"
      },
      "execution_count": null,
      "outputs": []
    },
    {
      "cell_type": "code",
      "source": [
        "!python train.py"
      ],
      "metadata": {
        "id": "8q9OvEDHxmRv",
        "collapsed": true
      },
      "execution_count": null,
      "outputs": []
    },
    {
      "cell_type": "markdown",
      "source": [
        "# Step 5: Evaluate your model"
      ],
      "metadata": {
        "id": "DyQo3klIymlz"
      }
    },
    {
      "cell_type": "code",
      "source": [
        "!python eval.py"
      ],
      "metadata": {
        "id": "9goKvp4jxk4j"
      },
      "execution_count": null,
      "outputs": []
    }
  ]
}