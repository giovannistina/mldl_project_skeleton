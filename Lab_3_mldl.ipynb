{
  "nbformat": 4,
  "nbformat_minor": 0,
  "metadata": {
    "colab": {
      "provenance": [],
      "gpuType": "T4",
      "include_colab_link": true
    },
    "kernelspec": {
      "name": "python3",
      "display_name": "Python 3"
    },
    "language_info": {
      "name": "python"
    },
    "accelerator": "GPU"
  },
  "cells": [
    {
      "cell_type": "markdown",
      "metadata": {
        "id": "view-in-github",
        "colab_type": "text"
      },
      "source": [
        "<a href=\"https://colab.research.google.com/github/giovannistina/mldl_project_skeleton/blob/main/Lab_3_mldl.ipynb\" target=\"_parent\"><img src=\"https://colab.research.google.com/assets/colab-badge.svg\" alt=\"Open In Colab\"/></a>"
      ]
    },
    {
      "cell_type": "markdown",
      "source": [
        "# LAB 3: How to setup a project from Scratch"
      ],
      "metadata": {
        "id": "-E9qeg-6y1Hu"
      }
    },
    {
      "cell_type": "markdown",
      "source": [
        "# Step 1: Clone your project from Github"
      ],
      "metadata": {
        "id": "y6kJGhxzyN6d"
      }
    },
    {
      "cell_type": "code",
      "source": [
        "# !git clone https://github.com/lambdavi/mldl_project_skeleton.git\n",
        "!git clone https://github.com/giovannistina/mldl_project_skeleton.git"
      ],
      "metadata": {
        "id": "6Wfm084txMr0",
        "outputId": "a23df317-c731-4d61-81db-5c24f86e53cc",
        "colab": {
          "base_uri": "https://localhost:8080/"
        }
      },
      "execution_count": 4,
      "outputs": [
        {
          "output_type": "stream",
          "name": "stdout",
          "text": [
            "fatal: destination path 'mldl_project_skeleton' already exists and is not an empty directory.\n"
          ]
        }
      ]
    },
    {
      "cell_type": "code",
      "source": [
        "!ls"
      ],
      "metadata": {
        "id": "MN0lMneJxVz0",
        "outputId": "3d98115a-7469-40e4-d2e8-c61fb32f0cc4",
        "colab": {
          "base_uri": "https://localhost:8080/"
        }
      },
      "execution_count": 5,
      "outputs": [
        {
          "output_type": "stream",
          "name": "stdout",
          "text": [
            "mldl_project_skeleton  sample_data\n"
          ]
        }
      ]
    },
    {
      "cell_type": "code",
      "source": [
        "# %cd mldl_project_skeleton\n",
        "%cd mldl_project_skeleton"
      ],
      "metadata": {
        "id": "3Pa5nOPxxbDf",
        "outputId": "12ed1e96-c675-4f7d-e6ce-35d16c32a9ab",
        "colab": {
          "base_uri": "https://localhost:8080/"
        }
      },
      "execution_count": 6,
      "outputs": [
        {
          "output_type": "stream",
          "name": "stdout",
          "text": [
            "/content/mldl_project_skeleton\n"
          ]
        }
      ]
    },
    {
      "cell_type": "markdown",
      "source": [
        "# Step 2: Packages Installation\n"
      ],
      "metadata": {
        "id": "be_4yDyp1Hru"
      }
    },
    {
      "cell_type": "code",
      "source": [
        "!pip install -r requirements.txt"
      ],
      "metadata": {
        "id": "EO9DuAYk1LFR"
      },
      "execution_count": 7,
      "outputs": []
    },
    {
      "cell_type": "markdown",
      "source": [
        "# Step 3: Dataset Setup\n",
        "## Different options\n",
        "- First one is downloading using a script that places the data in the download folder (usually recommended)\n",
        "- Second one is uploading the dataset to your personal/institutional Google Drive and load it from there ([Read More](https://saturncloud.io/blog/google-colab-how-to-read-data-from-my-google-drive/))\n",
        "- Place the download script directly here on colab\n",
        "\n",
        "You are free to do as you please in this phase.\n"
      ],
      "metadata": {
        "id": "bifSi62Ixrqr"
      }
    },
    {
      "cell_type": "code",
      "source": [
        "!python utils/download_dataset.py"
      ],
      "metadata": {
        "id": "DiWQTaTbxeIc",
        "colab": {
          "base_uri": "https://localhost:8080/"
        },
        "outputId": "6edfa7f4-d316-4940-9711-0172bbf9f64f"
      },
      "execution_count": 12,
      "outputs": [
        {
          "output_type": "stream",
          "name": "stdout",
          "text": [
            "Downloading...\n",
            "Download completed!\n",
            "Extracting...\n",
            "Extraction completed!\n"
          ]
        }
      ]
    },
    {
      "cell_type": "markdown",
      "source": [
        "# Step 4: Train your model and visualize training"
      ],
      "metadata": {
        "id": "sqo9Eh79yihI"
      }
    },
    {
      "cell_type": "code",
      "source": [
        "%env WANDB_API_KEY=0971f974f59b412e927672d178e3d07efc087942"
      ],
      "metadata": {
        "id": "4-dxDQOFcdgX",
        "colab": {
          "base_uri": "https://localhost:8080/"
        },
        "outputId": "657391da-420d-481f-f3df-af25492ad4bc"
      },
      "execution_count": 13,
      "outputs": [
        {
          "output_type": "stream",
          "name": "stdout",
          "text": [
            "env: WANDB_API_KEY=0971f974f59b412e927672d178e3d07efc087942\n"
          ]
        }
      ]
    },
    {
      "cell_type": "code",
      "source": [
        "import wandb\n",
        "\n",
        "# 1. Start a W&B run\n",
        "wandb.init(project='Lab3_mldl')\n",
        "\n",
        "# 2. Save model inputs and hyperparameters\n",
        "config = wandb.config\n",
        "config.learning_rate = 0.01\n"
      ],
      "metadata": {
        "id": "iwRjgDtcch3T"
      },
      "execution_count": null,
      "outputs": []
    },
    {
      "cell_type": "code",
      "source": [
        "!python train.py"
      ],
      "metadata": {
        "id": "8q9OvEDHxmRv",
        "collapsed": true,
        "colab": {
          "base_uri": "https://localhost:8080/"
        },
        "outputId": "841724df-f1e4-4027-900f-0ae7385d67fc"
      },
      "execution_count": 15,
      "outputs": [
        {
          "output_type": "stream",
          "name": "stdout",
          "text": [
            "Length of train dataset: 100000\n",
            "Length of val dataset: 10000\n",
            "Traceback (most recent call last):\n",
            "  File \"/content/mldl_project_skeleton/train.py\", line 151, in <module>\n",
            "    train(epoch, model, train_loader, criterion, optimizer)\n",
            "  File \"/content/mldl_project_skeleton/train.py\", line 85, in train\n",
            "    for batch_idx, (inputs, targets) in enumerate(train_loader):\n",
            "  File \"/usr/local/lib/python3.11/dist-packages/torch/utils/data/dataloader.py\", line 701, in __next__\n",
            "    data = self._next_data()\n",
            "           ^^^^^^^^^^^^^^^^^\n",
            "  File \"/usr/local/lib/python3.11/dist-packages/torch/utils/data/dataloader.py\", line 757, in _next_data\n",
            "    data = self._dataset_fetcher.fetch(index)  # may raise StopIteration\n",
            "           ^^^^^^^^^^^^^^^^^^^^^^^^^^^^^^^^^^\n",
            "  File \"/usr/local/lib/python3.11/dist-packages/torch/utils/data/_utils/fetch.py\", line 52, in fetch\n",
            "  File \"/usr/local/lib/python3.11/dist-packages/torch/utils/data/_utils/fetch.py\", line 52, in <listcomp>\n",
            "    data = [self.dataset[idx] for idx in possibly_batched_index]\n",
            "            ~~~~~~~~~~~~^^^^^\n",
            "  File \"/usr/local/lib/python3.11/dist-packages/torchvision/datasets/folder.py\", line 247, in __getitem__\n",
            "    sample = self.transform(sample)\n",
            "             ^^^^^^^^^^^^^^^^^^^^^^\n",
            "  File \"/usr/local/lib/python3.11/dist-packages/torchvision/transforms/transforms.py\", line 95, in __call__\n",
            "    img = t(img)\n",
            "          ^^^^^^\n",
            "  File \"/usr/local/lib/python3.11/dist-packages/torch/nn/modules/module.py\", line 1736, in _wrapped_call_impl\n",
            "    return self._call_impl(*args, **kwargs)\n",
            "           ^^^^^^^^^^^^^^^^^^^^^^^^^^^^^^^^\n",
            "  File \"/usr/local/lib/python3.11/dist-packages/torch/nn/modules/module.py\", line 1747, in _call_impl\n",
            "    return forward_call(*args, **kwargs)\n",
            "           ^^^^^^^^^^^^^^^^^^^^^^^^^^^^^\n",
            "  File \"/usr/local/lib/python3.11/dist-packages/torchvision/transforms/transforms.py\", line 354, in forward\n",
            "    return F.resize(img, self.size, self.interpolation, self.max_size, self.antialias)\n",
            "           ^^^^^^^^^^^^^^^^^^^^^^^^^^^^^^^^^^^^^^^^^^^^^^^^^^^^^^^^^^^^^^^^^^^^^^^^^^^\n",
            "  File \"/usr/local/lib/python3.11/dist-packages/torchvision/transforms/functional.py\", line 477, in resize\n",
            "    return F_pil.resize(img, size=output_size, interpolation=pil_interpolation)\n",
            "           ^^^^^^^^^^^^^^^^^^^^^^^^^^^^^^^^^^^^^^^^^^^^^^^^^^^^^^^^^^^^^^^^^^^^\n",
            "  File \"/usr/local/lib/python3.11/dist-packages/torchvision/transforms/_functional_pil.py\", line 250, in resize\n",
            "    return img.resize(tuple(size[::-1]), interpolation)\n",
            "           ^^^^^^^^^^^^^^^^^^^^^^^^^^^^^^^^^^^^^^^^^^^^\n",
            "  File \"/usr/local/lib/python3.11/dist-packages/PIL/Image.py\", line 2356, in resize\n",
            "    return self._new(self.im.resize(size, resample, box))\n",
            "                     ^^^^^^^^^^^^^^^^^^^^^^^^^^^^^^^^^^^\n",
            "KeyboardInterrupt\n"
          ]
        }
      ]
    },
    {
      "cell_type": "code",
      "source": [
        "# 3. Log metrics over time to visualize performance\n",
        "for i in range (10):\n",
        "    wandb.log({\"loss\": loss})\n"
      ],
      "metadata": {
        "id": "u_oxQ3h1ckxS"
      },
      "execution_count": null,
      "outputs": []
    },
    {
      "cell_type": "markdown",
      "source": [
        "# Step 5: Evaluate your model"
      ],
      "metadata": {
        "id": "DyQo3klIymlz"
      }
    },
    {
      "cell_type": "code",
      "source": [
        "!python eval.py"
      ],
      "metadata": {
        "id": "9goKvp4jxk4j"
      },
      "execution_count": null,
      "outputs": []
    }
  ]
}